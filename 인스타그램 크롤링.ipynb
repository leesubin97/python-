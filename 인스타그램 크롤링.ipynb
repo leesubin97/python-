{
 "cells": [
  {
   "cell_type": "markdown",
   "metadata": {},
   "source": [
    "# 주제 :  인스타그램 크롤링 + 시각화(워드클라우드)\n",
    "# 목적 : 시험\n",
    "# 제출처 : 비트캠프"
   ]
  },
  {
   "cell_type": "markdown",
   "metadata": {},
   "source": [
    "# 제목: 인스타그램 크롤링 + 시각화(워드클라우드)\n",
    "\n"
   ]
  },
  {
   "cell_type": "code",
   "execution_count": null,
   "metadata": {
    "scrolled": false
   },
   "outputs": [],
   "source": []
  },
  {
   "cell_type": "code",
   "execution_count": null,
   "metadata": {
    "scrolled": true
   },
   "outputs": [],
   "source": []
  },
  {
   "cell_type": "code",
   "execution_count": 2,
   "metadata": {},
   "outputs": [
    {
     "data": {
      "text/html": [
       "<style>.container { font-weight: bold !important; }</style>"
      ],
      "text/plain": [
       "<IPython.core.display.HTML object>"
      ]
     },
     "metadata": {},
     "output_type": "display_data"
    },
    {
     "data": {
      "text/html": [
       "<style>.container { width: 98% !important; }</style>"
      ],
      "text/plain": [
       "<IPython.core.display.HTML object>"
      ]
     },
     "metadata": {},
     "output_type": "display_data"
    }
   ],
   "source": [
    "# 주피터 노트북 환경설정\n",
    "import warnings\n",
    "warnings.filterwarnings('ignore')\n",
    "warnings.simplefilter('ignore')\n",
    "\n",
    "from IPython.display import set_matplotlib_formats\n",
    "set_matplotlib_formats(\"retina\")\n",
    "\n",
    "from IPython.display import Image\n",
    "\n",
    "from IPython.core.display import display, HTML\n",
    "display(HTML(\"<style>.container { font-weight: bold !important; }</style>\"))\n",
    "display(HTML(\"<style>.container { width: 98% !important; }</style>\"))\n"
   ]
  },
  {
   "cell_type": "code",
   "execution_count": 3,
   "metadata": {},
   "outputs": [],
   "source": [
    "import numpy as np\n",
    "import pandas as pd\n",
    "import matplotlib\n",
    "import matplotlib.pyplot as plt\n",
    "import seaborn as sns\n",
    "%matplotlib inline\n",
    "plt.rcParams['font.size'] = 12.0\n",
    "plt.rcParams['font.family'] = 'Malgun Gothic'"
   ]
  },
  {
   "cell_type": "code",
   "execution_count": null,
   "metadata": {},
   "outputs": [],
   "source": []
  },
  {
   "cell_type": "markdown",
   "metadata": {},
   "source": [
    "# 데이터 분석 과정 \n",
    "\n",
    "- 모듈 임포트 \n",
    "- 데이타 수집 (학습데이타)\n",
    "- 데이터 탐색\n",
    "- 데이타 전처리 \n",
    "- 데이터 학습 (모델화)\n",
    "- 데이터 예측 (테스트데이타)\n",
    "- 데이터 테스트 (정답률)\n",
    "- + 시각화 화면 제시 "
   ]
  },
  {
   "cell_type": "code",
   "execution_count": 4,
   "metadata": {},
   "outputs": [],
   "source": [
    "# 학습기 모듈 \n",
    "# from sklearn.neighbors import KNeighborsClassifier\n",
    "# from sklearn.tree import DecisionTreeClassifier\n",
    "# from sklearn.ensemble import RandomForestClassifier\n",
    "# from sklearn.naive_bayes import GaussianNB\n",
    "from sklearn.svm import SVC"
   ]
  },
  {
   "cell_type": "code",
   "execution_count": 5,
   "metadata": {},
   "outputs": [],
   "source": [
    "# 학습데이터와 데스트 전용 데이터로 분할하는 메서드 \n",
    "from sklearn.model_selection import train_test_split\n",
    "from sklearn.metrics import accuracy_score"
   ]
  },
  {
   "cell_type": "markdown",
   "metadata": {},
   "source": [
    "# 데이터수집\n",
    "#### 클로링 방법을 이용하여 수집 함\n",
    "#### py 로 작성하여 됨."
   ]
  },
  {
   "cell_type": "code",
   "execution_count": 6,
   "metadata": {},
   "outputs": [
    {
     "name": "stdout",
     "output_type": "stream",
     "text": [
      "Requirement already satisfied: selenium==3.11.0 in c:\\programdata\\anaconda3\\lib\\site-packages (3.11.0)\n"
     ]
    },
    {
     "name": "stderr",
     "output_type": "stream",
     "text": [
      "twisted 18.7.0 requires PyHamcrest>=1.9.0, which is not installed.\n",
      "You are using pip version 10.0.1, however version 21.1.1 is available.\n",
      "You should consider upgrading via the 'python -m pip install --upgrade pip' command.\n"
     ]
    },
    {
     "ename": "WebDriverException",
     "evalue": "Message: '(driver) chromedriver.exe' executable needs to be in PATH. Please see https://sites.google.com/a/chromium.org/chromedriver/home\n",
     "output_type": "error",
     "traceback": [
      "\u001b[1;31m---------------------------------------------------------------------------\u001b[0m",
      "\u001b[1;31mFileNotFoundError\u001b[0m                         Traceback (most recent call last)",
      "\u001b[1;32mC:\\ProgramData\\Anaconda3\\lib\\site-packages\\selenium\\webdriver\\common\\service.py\u001b[0m in \u001b[0;36mstart\u001b[1;34m(self)\u001b[0m\n\u001b[0;32m     75\u001b[0m                                             \u001b[0mstderr\u001b[0m\u001b[1;33m=\u001b[0m\u001b[0mself\u001b[0m\u001b[1;33m.\u001b[0m\u001b[0mlog_file\u001b[0m\u001b[1;33m,\u001b[0m\u001b[1;33m\u001b[0m\u001b[0m\n\u001b[1;32m---> 76\u001b[1;33m                                             stdin=PIPE)\n\u001b[0m\u001b[0;32m     77\u001b[0m         \u001b[1;32mexcept\u001b[0m \u001b[0mTypeError\u001b[0m\u001b[1;33m:\u001b[0m\u001b[1;33m\u001b[0m\u001b[0m\n",
      "\u001b[1;32mC:\\ProgramData\\Anaconda3\\lib\\subprocess.py\u001b[0m in \u001b[0;36m__init__\u001b[1;34m(self, args, bufsize, executable, stdin, stdout, stderr, preexec_fn, close_fds, shell, cwd, env, universal_newlines, startupinfo, creationflags, restore_signals, start_new_session, pass_fds, encoding, errors, text)\u001b[0m\n\u001b[0;32m    755\u001b[0m                                 \u001b[0merrread\u001b[0m\u001b[1;33m,\u001b[0m \u001b[0merrwrite\u001b[0m\u001b[1;33m,\u001b[0m\u001b[1;33m\u001b[0m\u001b[0m\n\u001b[1;32m--> 756\u001b[1;33m                                 restore_signals, start_new_session)\n\u001b[0m\u001b[0;32m    757\u001b[0m         \u001b[1;32mexcept\u001b[0m\u001b[1;33m:\u001b[0m\u001b[1;33m\u001b[0m\u001b[0m\n",
      "\u001b[1;32mC:\\ProgramData\\Anaconda3\\lib\\subprocess.py\u001b[0m in \u001b[0;36m_execute_child\u001b[1;34m(self, args, executable, preexec_fn, close_fds, pass_fds, cwd, env, startupinfo, creationflags, shell, p2cread, p2cwrite, c2pread, c2pwrite, errread, errwrite, unused_restore_signals, unused_start_new_session)\u001b[0m\n\u001b[0;32m   1154\u001b[0m                                          \u001b[0mos\u001b[0m\u001b[1;33m.\u001b[0m\u001b[0mfspath\u001b[0m\u001b[1;33m(\u001b[0m\u001b[0mcwd\u001b[0m\u001b[1;33m)\u001b[0m \u001b[1;32mif\u001b[0m \u001b[0mcwd\u001b[0m \u001b[1;32mis\u001b[0m \u001b[1;32mnot\u001b[0m \u001b[1;32mNone\u001b[0m \u001b[1;32melse\u001b[0m \u001b[1;32mNone\u001b[0m\u001b[1;33m,\u001b[0m\u001b[1;33m\u001b[0m\u001b[0m\n\u001b[1;32m-> 1155\u001b[1;33m                                          startupinfo)\n\u001b[0m\u001b[0;32m   1156\u001b[0m             \u001b[1;32mfinally\u001b[0m\u001b[1;33m:\u001b[0m\u001b[1;33m\u001b[0m\u001b[0m\n",
      "\u001b[1;31mFileNotFoundError\u001b[0m: [WinError 2] 지정된 파일을 찾을 수 없습니다",
      "\nDuring handling of the above exception, another exception occurred:\n",
      "\u001b[1;31mWebDriverException\u001b[0m                        Traceback (most recent call last)",
      "\u001b[1;32m<ipython-input-6-49717fe7ae2f>\u001b[0m in \u001b[0;36m<module>\u001b[1;34m()\u001b[0m\n\u001b[0;32m     25\u001b[0m \u001b[1;31m# selenium 이용해서 드라이버 지정하고 url 불러오기\u001b[0m\u001b[1;33m\u001b[0m\u001b[1;33m\u001b[0m\u001b[0m\n\u001b[0;32m     26\u001b[0m \u001b[1;31m# keyword 를 포함한 url로 쓰기\u001b[0m\u001b[1;33m\u001b[0m\u001b[1;33m\u001b[0m\u001b[0m\n\u001b[1;32m---> 27\u001b[1;33m \u001b[0mdriver\u001b[0m \u001b[1;33m=\u001b[0m \u001b[0mwebdriver\u001b[0m\u001b[1;33m.\u001b[0m\u001b[0mChrome\u001b[0m\u001b[1;33m(\u001b[0m\u001b[0mexecutable_path\u001b[0m\u001b[1;33m=\u001b[0m\u001b[1;34m'(driver) chromedriver.exe'\u001b[0m\u001b[1;33m)\u001b[0m\u001b[1;33m\u001b[0m\u001b[0m\n\u001b[0m\u001b[0;32m     28\u001b[0m \u001b[1;33m\u001b[0m\u001b[0m\n\u001b[0;32m     29\u001b[0m \u001b[1;31m#keyword를 for문으로 돌릴 수 있으나 나중에 driver에서 오류가 날 가능성이 높음.\u001b[0m\u001b[1;33m\u001b[0m\u001b[1;33m\u001b[0m\u001b[0m\n",
      "\u001b[1;32mC:\\ProgramData\\Anaconda3\\lib\\site-packages\\selenium\\webdriver\\chrome\\webdriver.py\u001b[0m in \u001b[0;36m__init__\u001b[1;34m(self, executable_path, port, options, service_args, desired_capabilities, service_log_path, chrome_options)\u001b[0m\n\u001b[0;32m     66\u001b[0m             \u001b[0mservice_args\u001b[0m\u001b[1;33m=\u001b[0m\u001b[0mservice_args\u001b[0m\u001b[1;33m,\u001b[0m\u001b[1;33m\u001b[0m\u001b[0m\n\u001b[0;32m     67\u001b[0m             log_path=service_log_path)\n\u001b[1;32m---> 68\u001b[1;33m         \u001b[0mself\u001b[0m\u001b[1;33m.\u001b[0m\u001b[0mservice\u001b[0m\u001b[1;33m.\u001b[0m\u001b[0mstart\u001b[0m\u001b[1;33m(\u001b[0m\u001b[1;33m)\u001b[0m\u001b[1;33m\u001b[0m\u001b[0m\n\u001b[0m\u001b[0;32m     69\u001b[0m \u001b[1;33m\u001b[0m\u001b[0m\n\u001b[0;32m     70\u001b[0m         \u001b[1;32mtry\u001b[0m\u001b[1;33m:\u001b[0m\u001b[1;33m\u001b[0m\u001b[0m\n",
      "\u001b[1;32mC:\\ProgramData\\Anaconda3\\lib\\site-packages\\selenium\\webdriver\\common\\service.py\u001b[0m in \u001b[0;36mstart\u001b[1;34m(self)\u001b[0m\n\u001b[0;32m     81\u001b[0m                 raise WebDriverException(\n\u001b[0;32m     82\u001b[0m                     \"'%s' executable needs to be in PATH. %s\" % (\n\u001b[1;32m---> 83\u001b[1;33m                         os.path.basename(self.path), self.start_error_message)\n\u001b[0m\u001b[0;32m     84\u001b[0m                 )\n\u001b[0;32m     85\u001b[0m             \u001b[1;32melif\u001b[0m \u001b[0merr\u001b[0m\u001b[1;33m.\u001b[0m\u001b[0merrno\u001b[0m \u001b[1;33m==\u001b[0m \u001b[0merrno\u001b[0m\u001b[1;33m.\u001b[0m\u001b[0mEACCES\u001b[0m\u001b[1;33m:\u001b[0m\u001b[1;33m\u001b[0m\u001b[0m\n",
      "\u001b[1;31mWebDriverException\u001b[0m: Message: '(driver) chromedriver.exe' executable needs to be in PATH. Please see https://sites.google.com/a/chromium.org/chromedriver/home\n"
     ]
    }
   ],
   "source": [
    "# 필요 라이브러리 인스톨 및 임포트\n",
    "\n",
    "!pip install selenium==3.11.0\n",
    "from selenium import webdriver\n",
    "from selenium.webdriver.common.keys import Keys\n",
    "from selenium.webdriver.common.action_chains import ActionChains\n",
    "import time\n",
    "import csv \n",
    "\n",
    "# 경기도 행정구역 리스트\n",
    "gg = [\n",
    "  '가평군',  '고양시',  '과천시', '광명시',\n",
    "  '광주시',  '구리시',  '군포시', '김포시',\n",
    "  '남양주시', '동두천시', '부천시', '성남시',\n",
    "  '수원시',  '시흥시',  '안산시', '안성시',\n",
    "  '안양시',  '양주시',  '양평군', '여주시',\n",
    "  '연천군',  '오산시',  '용인시', '의왕시',\n",
    "  '의정부시', '이천시',  '파주시', '평택시',\n",
    "  '포천시',  '하남시',  '화성시'\n",
    "]\n",
    "\n",
    "# 나중에 결과 저장할 딕셔너리 생성\n",
    "insta_dict = {}\n",
    "\n",
    "# selenium 이용해서 드라이버 지정하고 url 불러오기\n",
    "# keyword 를 포함한 url로 쓰기\n",
    "driver = webdriver.Chrome(executable_path='(driver) chromedriver.exe') \n",
    "\n",
    "#keyword를 for문으로 돌릴 수 있으나 나중에 driver에서 오류가 날 가능성이 높음.\n",
    "keyword = gg[1]\n",
    "insta_url = \"https://www.instagram.com\"\n",
    "search_url = insta_url + \"/explore/tags/\" + keyword\n",
    "driver.get(search_url)\n",
    "driver.maximize_window() #창 크게\n",
    "time.sleep(3)\n",
    "\n",
    "\n",
    "## 자동 로그인\n",
    "\n",
    "# 아이디, 비번 변수에 저장\n",
    "insta_id = \"ggdata_semi_5\"\n",
    "insta_pw = \"ggdata\"\n",
    "\n",
    "find_login = driver.find_elements_by_css_selector(\n",
    "    \"label.f0n8F input._2hvTZ.pexuQ.zyHYP\")\n",
    "# id 입력\n",
    "input_id = find_login[0]\n",
    "input_id.click()\n",
    "input_id.send_keys(insta_id)\n",
    "\n",
    "# pw 입력\n",
    "input_password = find_login[1]\n",
    "input_password.click()\n",
    "input_password.send_keys(insta_pw)\n",
    "\n",
    "# 로그인 버튼 클릭 click\n",
    "login = driver.find_element_by_css_selector(\"button.sqdOP.L3NKy.y3zKF\")\n",
    "login.click()\n",
    "\n",
    "## 로그인 시 팝업 창 제거\n",
    "# 로그인 저장 팝업 제거\n",
    "later_button = driver.find_elements_by_class_name(\"sqdOP\")\n",
    "later_button[0].click()\n",
    "\n",
    "# 알림창 제거\n",
    "alert = driver.find_elements_by_css_selector(\"button.aOOlW\")\n",
    "alertLater = alert[1]\n",
    "alertLater.click()\n",
    "\n",
    "# 브라우저가 잘 작동해서 검색이 가능하다면,\n",
    "# 검색창에 검색어 입력하기 : 창 끄기가 chrome에서는 작동하지 않아서 검색어는 url에 바로 주기로\n",
    "# keyword = \"광명시\"\n",
    "# # search bar\n",
    "# time.sleep(1)\n",
    "# searchBar = driver.find_element_by_css_selector(\"div.eyXLr.wUAXj\")\n",
    "# searchBar.click()\n",
    "\n",
    "# # search input\n",
    "# searchKeyword = driver.find_element_by_css_selector(\"input.XTCLo.x3qfX\")\n",
    "# searchKeyword.click()\n",
    "# searchKeyword.send_keys(keyword)\n",
    "\n",
    "## 첫번째 사진 클릭 후 텍스트 가져오기~다음버튼 클릭하기 반복하기\n",
    "# 첫번째 사진 클릭하기\n",
    "driver.find_element_by_class_name(\"v1Nh3\").click()\n",
    "\n",
    "#크롤링한 결과 넣을 리스트, 그거 모을 딕트 생성\n",
    "texts = []\n",
    "\n",
    "\n",
    "#반복문. 10단위로 끝날때마다 알림프린트\n",
    "i = 0\n",
    "while i < 100:\n",
    "    i += 1\n",
    "    # # 게시물 텍스트 가져오기\n",
    "    text = driver.find_element_by_class_name(\"C4VMK\").text\n",
    "    texts.append(text)\n",
    "    time.sleep(1)\n",
    "    # 다음 버튼 클릭하기\n",
    "    driver.find_element_by_class_name(\"_65Bje\").click()\n",
    "    time.sleep(2)\n",
    "    if i % 10 == 0:\n",
    "        print(\"{0}번 끝\".format(i))\n",
    "# 결과 dict에 저장하기\n",
    "insta_dict[ keyword ] = texts\n",
    "\n",
    "# 창 나가기\n",
    "actions = webdriver.ActionChains(driver).send_keys(Keys.ESCAPE)\n",
    "actions.perform()\n",
    "\n",
    "\n",
    "# 완성 딕셔너리 확인\n",
    "insta_dict\n",
    "\n",
    "# 딕셔너리를 csv 파일에 저장하기\n",
    "with open('insta_texts.csv', 'w', encoding='utf-8', newline='') as csvfile:\n",
    "    writer = csv.DictWriter(csvfile, fieldnames = ['index','city','insta_text'])\n",
    "    writer.writeheader()\n",
    "    for key, value in insta_dict.items():\n",
    "        i = 0\n",
    "        writer.writerow({'index': i , 'city': key, 'insta_text': value})\n",
    "        i += 1\n"
   ]
  },
  {
   "cell_type": "code",
   "execution_count": null,
   "metadata": {},
   "outputs": [],
   "source": []
  },
  {
   "cell_type": "code",
   "execution_count": null,
   "metadata": {},
   "outputs": [],
   "source": []
  },
  {
   "cell_type": "code",
   "execution_count": null,
   "metadata": {},
   "outputs": [],
   "source": []
  },
  {
   "cell_type": "markdown",
   "metadata": {},
   "source": [
    "# 데이타 전처리 "
   ]
  },
  {
   "cell_type": "code",
   "execution_count": null,
   "metadata": {},
   "outputs": [],
   "source": [
    "# 전처리 함수 작성하자\n",
    "import numpy as np\n",
    "import pandas as pd\n",
    "from unicodedata import normalize\n",
    "\n",
    "\n",
    "#인덱스에 필요한 gg 리스트\n",
    "gg = [\n",
    "  '가평군',  '고양시',  '과천시', '광명시',  \n",
    "  '광주시',  '구리시',  '군포시', '김포시',\n",
    "  '남양주시', '동두천시', '부천시', '성남시',\n",
    "  '수원시',  '시흥시',  '안산시', '안성시',\n",
    "  '안양시',  '양주시',  '양평군', '여주시',\n",
    "  '연천군',  '오산시',  '용인시', '의왕시',\n",
    "  '의정부시', '이천시',  '파주시', '평택시',\n",
    "  '포천시',  '하남시',  '화성시'\n",
    "]\n",
    "# 정제된 텍스트 담을 데이터 프레임 미리 만들어두기 : column 만 주기\n",
    "df_after = pd.DataFrame(columns=['city', 'insta_text'])\n",
    "\n",
    "# # 크롤링해서 저장한 데이터 불러와서 before에 저장. \n",
    "df_before = pd.read_excel('insta_merged.xlsx', encoding='utf-8')\n",
    "\n",
    "# 데이터 인덱스 별 텍스트에 대해 쓸모없는 부분 처리해주고 정규화 해주고 after df 에 append해서 새로운 df 만들기 \n",
    "for i in range(31):\n",
    "    before = df_before['text'].loc[i]\n",
    "    before = before.replace('\\\\n','')\n",
    "    before = before.replace('[', '')\n",
    "    before = before.replace(']', '')\n",
    "    before = before.replace('#', '')\n",
    "    before = before.replace('_', ' ')\n",
    "    before = before.replace(\"'\", '')\n",
    "    after = normalize('NFC', before) #konlpy가 읽을 수 있게 인스타 텍스트 형식 정규화\n",
    "    \n",
    "    # 처리가 끝난 after를 시 이름과 함께 새로운 after 데이터 프레임에 append 해주기\n",
    "    row = [gg[i], after]\n",
    "    row_series = pd.Series(row, index = df_after.columns)\n",
    "    df_after = df_after.append(row_series, ignore_index=True)\n",
    "\n",
    "# 만든 새 데이터프레임을 엑셀로 저장\n",
    "df_after.to_excel(\"insta_normalized.xlsx\")"
   ]
  },
  {
   "cell_type": "code",
   "execution_count": null,
   "metadata": {},
   "outputs": [],
   "source": []
  },
  {
   "cell_type": "code",
   "execution_count": null,
   "metadata": {},
   "outputs": [],
   "source": []
  },
  {
   "cell_type": "code",
   "execution_count": null,
   "metadata": {},
   "outputs": [],
   "source": [
    "# 필요 라이브러리 받기\n",
    "import konlpy\n",
    "from konlpy.tag import Okt\n",
    "okt = Okt()\n",
    "# 정규화 한 데이터 불러오기\n",
    "import numpy as np\n",
    "import pandas as pd\n",
    "\n",
    "df_normal = pd.read_excel('insta_normalized.xlsx', encoding='utf-8')\n",
    "df_normal.head(2)\n",
    "\n",
    "# 테그된 단어 리스트 담을 데이터 프레임 미리 만들어두기\n",
    "df_tagged = pd.DataFrame(columns=['city', 'tagged'])\n",
    "df_tagged.head()\n",
    "\n",
    "# 31개 시에 대해 반복하기\n",
    "# okt class가 잘 동작하려면 800개씩 끊어서 태깅하고 나중에 다시 extend로 한 리스트에 합치기.\n",
    "# 테깅이 끝나면 데이터프레임에 append 해주기\n",
    "\n",
    "for i in range(31):\n",
    "    #전체 택스트\n",
    "    whole = df_normal['insta_text'].loc[i]\n",
    "    long = len(whole)\n",
    "    n = long // 800 # 몇번돌아야 하는지.. n+1번 만약 1601개면 3번(1-800,2-1600)\n",
    "    all_tagged = [] # 전체리스트. 각 파트 돌때마다 담아줄거야\n",
    "    for cut in range(n+1):\n",
    "        part = whole[cut*800 : (cut+1)*800]\n",
    "        raw_pos_tagged = okt.pos(part, norm=True, stem=True)\n",
    "        #print(raw_pos_tagged)\n",
    "        all_tagged.extend(raw_pos_tagged)\n",
    "\n",
    "    # 데이터프레임에 row 기준으로 업데이트\n",
    "    row = [gg[i], all_tagged]\n",
    "    row_series = pd.Series(row, index = df_tagged.columns)\n",
    "    df_tagged = df_tagged.append(row_series, ignore_index=True)\n",
    "\n",
    "df_tagged\n",
    "\n",
    "\n",
    "# 만든 새 데이터프레임을 엑셀로 저장\n",
    "df_tagged.to_excel(\"insta_posed.xlsx\")"
   ]
  },
  {
   "cell_type": "code",
   "execution_count": null,
   "metadata": {},
   "outputs": [],
   "source": []
  },
  {
   "cell_type": "code",
   "execution_count": null,
   "metadata": {},
   "outputs": [],
   "source": []
  },
  {
   "cell_type": "markdown",
   "metadata": {},
   "source": [
    "### 학습 전용과 테스트 전용 분리하기 \n",
    "\n",
    "- 학습데이터와 데스트 전용 데이터로 분할하는 메서드 \n",
    "- 임포트 \n",
    "    - from sklearn.model_selection import train_test_split\n",
    "\n",
    "```\n",
    "    train_test_split( data, label, \n",
    "                       test_size=float, train_size=float, \n",
    "                        shuffle=True/False)\n",
    "```                    "
   ]
  },
  {
   "cell_type": "code",
   "execution_count": null,
   "metadata": {},
   "outputs": [],
   "source": []
  },
  {
   "cell_type": "code",
   "execution_count": null,
   "metadata": {},
   "outputs": [],
   "source": []
  },
  {
   "cell_type": "code",
   "execution_count": null,
   "metadata": {},
   "outputs": [],
   "source": []
  },
  {
   "cell_type": "code",
   "execution_count": null,
   "metadata": {},
   "outputs": [],
   "source": []
  },
  {
   "cell_type": "code",
   "execution_count": null,
   "metadata": {},
   "outputs": [],
   "source": []
  },
  {
   "cell_type": "code",
   "execution_count": null,
   "metadata": {},
   "outputs": [],
   "source": []
  },
  {
   "cell_type": "code",
   "execution_count": null,
   "metadata": {},
   "outputs": [],
   "source": []
  },
  {
   "cell_type": "markdown",
   "metadata": {},
   "source": [
    "### 데이타 학습  : 모델링"
   ]
  },
  {
   "cell_type": "code",
   "execution_count": null,
   "metadata": {},
   "outputs": [],
   "source": []
  },
  {
   "cell_type": "code",
   "execution_count": null,
   "metadata": {},
   "outputs": [],
   "source": []
  },
  {
   "cell_type": "code",
   "execution_count": null,
   "metadata": {},
   "outputs": [],
   "source": []
  },
  {
   "cell_type": "code",
   "execution_count": null,
   "metadata": {},
   "outputs": [],
   "source": []
  },
  {
   "cell_type": "code",
   "execution_count": null,
   "metadata": {},
   "outputs": [],
   "source": []
  },
  {
   "cell_type": "code",
   "execution_count": null,
   "metadata": {},
   "outputs": [],
   "source": []
  },
  {
   "cell_type": "markdown",
   "metadata": {},
   "source": [
    "### 데이터 예측 "
   ]
  },
  {
   "cell_type": "code",
   "execution_count": null,
   "metadata": {},
   "outputs": [],
   "source": []
  },
  {
   "cell_type": "code",
   "execution_count": null,
   "metadata": {},
   "outputs": [],
   "source": []
  },
  {
   "cell_type": "code",
   "execution_count": null,
   "metadata": {},
   "outputs": [],
   "source": [
    "from collections import Counter\n",
    "\n",
    "# 테그된  리스트 담을 데이터 프레임 만들어두기\n",
    "df_counts = pd.DataFrame(columns=['city', 'counts'])\n",
    "df_counts.head()\n",
    "\n",
    "for i in range(31):\n",
    "    \n",
    "    del_list = ['하다', '있다', '되다', '이다', '돼다', '않다', '그렇다', '아니다', '이렇다', '그렇다', '어떻다'] \n",
    "\n",
    "    word_cleaned = []\n",
    "    for word in df_tagged['tagged'].loc[i]:\n",
    "        if not word[1] in [\"Josa\", \"Eomi\", \"Punctuation\", \"Foreign\", \"Alpha\",\"Determiner\", \"Number\"]: # Foreign == ”, “ 와 같이 제외되어야할 항목들\n",
    "            if (len(word[0]) != 1) & (word[0] not in del_list): # 한 글자로 이뤄진 단어들을 제외 & 원치 않는 단어들을 제외\n",
    "                word_cleaned.append(word[0])\n",
    "\n",
    "    word_cleaned\n",
    "    word_dic = Counter(word_cleaned)\n",
    "    common_words = word_dic.most_common()\n",
    "    \n",
    "    # 데이터프레임에 row 기준으로 업데이트\n",
    "    row = [gg[i], common_words]\n",
    "    row_series = pd.Series(row, index = df_counts.columns)\n",
    "    df_counts = df_counts.append(row_series, ignore_index=True)\n",
    "    \n",
    "    \n",
    "    \n",
    "\n",
    "# 만든 새 데이터프레임을 엑셀로 저장\n",
    "df_counts.to_excel(\"insta_counts.xlsx\")\n",
    "# 피클로 저장\n",
    "import pickle\n",
    "\n",
    "with open(\"dfcounts(insta).pickle\",\"wb\") as fw:\n",
    "    pickle.dump(df_counts, fw)"
   ]
  },
  {
   "cell_type": "code",
   "execution_count": null,
   "metadata": {},
   "outputs": [],
   "source": []
  },
  {
   "cell_type": "code",
   "execution_count": null,
   "metadata": {},
   "outputs": [],
   "source": []
  },
  {
   "cell_type": "code",
   "execution_count": null,
   "metadata": {},
   "outputs": [],
   "source": []
  },
  {
   "cell_type": "code",
   "execution_count": null,
   "metadata": {},
   "outputs": [],
   "source": []
  },
  {
   "cell_type": "markdown",
   "metadata": {},
   "source": [
    "### 결과 확인 \n",
    "\n",
    "metrics.accuracy_score(label, clf.predict(data))"
   ]
  },
  {
   "cell_type": "code",
   "execution_count": null,
   "metadata": {},
   "outputs": [],
   "source": [
    "WordCloud library  설치\n",
    "> conda install -c https://conda.anaconda.org/conda-forge wordcloud==1.5.0\n",
    "# WordCloud 패키지 import\n",
    "from wordcloud import WordCloud\n",
    "import matplotlib.pyplot as plt\n",
    "from PIL import Image # 만약 \"No module named 'PIL'\" 에러가 발생하면 [ pip install Pillow==5.4.1 ] 로 라이브러리를 설치해줍니다.\n",
    "\n",
    "import pandas as pd\n",
    "import numpy as np\n",
    "import matplotlib.pyplot as plt\n",
    "%matplotlib inline\n",
    "\n",
    "# 데이터 가져오기 (df)\n",
    "\n",
    "with open(\"dfcounts(insta).pickle\",\"rb\") as fr:\n",
    "    data = pickle.load(fr)\n",
    "    \n",
    "\n",
    "# 100개 단어로 워드클라우드 만드는 함수 만들어보기\n",
    "def make_wc(city_index:int, city:str, data: \"df(city, counts_튜플담긴리스트)\"):\n",
    "  word_dict = {}\n",
    "  for i in range(100):\n",
    "    word_dict[data['counts'].loc[city_index][i][0]] = data['counts'].loc[city_index][i][1]\n",
    "  mask = np.array(Image.open(city+\".jpg\"))\n",
    "  word_cloud = WordCloud(font_path=\"C:/Windows/Fonts/malgun.ttf\", # font_path=\"C:/Windows/Fonts/NanumSquareB.ttf\"\n",
    "                        width=2000, height=1000, max_words=150, min_font_size=5,\n",
    "                        mask=mask, \n",
    "                        background_color='white').generate_from_frequencies(word_dict)\n",
    "\n",
    "  plt.figure(figsize=(15,15))\n",
    "  plt.imshow(word_cloud)\n",
    "  plt.axis(\"off\")\n",
    "  plt.tight_layout(pad=0)\n",
    "  plt.show()"
   ]
  },
  {
   "cell_type": "code",
   "execution_count": null,
   "metadata": {},
   "outputs": [],
   "source": []
  },
  {
   "cell_type": "code",
   "execution_count": null,
   "metadata": {},
   "outputs": [],
   "source": []
  },
  {
   "cell_type": "code",
   "execution_count": null,
   "metadata": {},
   "outputs": [],
   "source": []
  },
  {
   "cell_type": "code",
   "execution_count": null,
   "metadata": {},
   "outputs": [],
   "source": []
  },
  {
   "cell_type": "code",
   "execution_count": null,
   "metadata": {},
   "outputs": [],
   "source": []
  }
 ],
 "metadata": {
  "kernelspec": {
   "display_name": "Python 3",
   "language": "python",
   "name": "python3"
  },
  "language_info": {
   "codemirror_mode": {
    "name": "ipython",
    "version": 3
   },
   "file_extension": ".py",
   "mimetype": "text/x-python",
   "name": "python",
   "nbconvert_exporter": "python",
   "pygments_lexer": "ipython3",
   "version": "3.7.0"
  }
 },
 "nbformat": 4,
 "nbformat_minor": 2
}
